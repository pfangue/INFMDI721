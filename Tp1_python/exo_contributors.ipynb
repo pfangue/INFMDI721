{
 "cells": [
  {
   "cell_type": "code",
   "execution_count": 44,
   "metadata": {},
   "outputs": [
    {
     "name": "stdout",
     "output_type": "stream",
     "text": [
      "[('andrew', 6.74), ('taylorotwell', 6.78), ('fabpot', 25.27), ('jonathanong', 30.92), ('alexcrichton', 31.49), ('nelsonic', 34.67), ('bebraw', 40.96), ('ornicar', 41.55), ('egoist', 41.88), ('HugoGiraudel', 46.94)]\n"
     ]
    }
   ],
   "source": [
    "import requests\n",
    "from bs4 import BeautifulSoup\n",
    "import pandas as pd\n",
    "import numpy as np\n",
    "from github import Github\n",
    "\n",
    "def get_soup_from_url(url):\n",
    "    res = requests.get(url)\n",
    "    soup = BeautifulSoup(res.content, 'html.parser')\n",
    "    return soup\n",
    "\n",
    "def get_contributors_from_url(url):\n",
    "    soup = get_soup_from_url(url)\n",
    "    contributors = []\n",
    "    \n",
    "    contributors_table = soup.find(\"table\")\n",
    "    contributors_tr = contributors_table.find_all(\"tr\")\n",
    "    for ligne in contributors_tr:\n",
    "            contributors_td = ligne.find_all(\"td\")\n",
    "            contributors_th = ligne.find_all(\"th\")\n",
    "            if contributors_td:\n",
    "                contributors.append(contributors_td[0].text.split(\" \")[0])\n",
    "    return contributors;\n",
    "\n",
    "def get_mean_star(contributeurs):\n",
    "    g = Github(\"pfangue\", \"12Décembre,1990\")\n",
    "    mean_contrib = {}\n",
    "    count = 0\n",
    "    somme = 0\n",
    "    for user in contributeurs:\n",
    "        for repo in g.get_user(user).get_repos():\n",
    "            count += 1\n",
    "            somme = somme + repo.stargazers_count\n",
    "        average = round(somme/count, 2)\n",
    "        mean_contrib[user] = average\n",
    "    return mean_contrib;\n",
    "\n",
    "url_contributors = \"https://gist.github.com/paulmillr/2657075\"\n",
    "content = get_soup_from_url(url_contributors);\n",
    "contributeurs = get_contributors_from_url(url_contributors);\n",
    "\n",
    "results = get_mean_star(contributeurs[0:10])\n",
    "\n",
    "#Trier par mean_starr\n",
    "tri_mean = sorted(results.items(), key=lambda t: t[1])\n",
    "print(tri_mean)"
   ]
  },
  {
   "cell_type": "code",
   "execution_count": null,
   "metadata": {},
   "outputs": [],
   "source": []
  }
 ],
 "metadata": {
  "kernelspec": {
   "display_name": "Python 3",
   "language": "python",
   "name": "python3"
  },
  "language_info": {
   "codemirror_mode": {
    "name": "ipython",
    "version": 3
   },
   "file_extension": ".py",
   "mimetype": "text/x-python",
   "name": "python",
   "nbconvert_exporter": "python",
   "pygments_lexer": "ipython3",
   "version": "3.7.3"
  }
 },
 "nbformat": 4,
 "nbformat_minor": 2
}
