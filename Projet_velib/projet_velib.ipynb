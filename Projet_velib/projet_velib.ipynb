{
 "cells": [
  {
   "cell_type": "markdown",
   "metadata": {},
   "source": [
    "## *Recommandation des stations velib dans le 1er arrondissement de Paris*"
   ]
  },
  {
   "cell_type": "code",
   "execution_count": 1,
   "metadata": {},
   "outputs": [],
   "source": [
    "%%init_spark"
   ]
  },
  {
   "cell_type": "code",
   "execution_count": 2,
   "metadata": {},
   "outputs": [
    {
     "data": {
      "text/plain": [
       "Intitializing Scala interpreter ..."
      ]
     },
     "metadata": {},
     "output_type": "display_data"
    },
    {
     "data": {
      "text/plain": [
       "Spark Web UI available at http://lenovo-ideapad.home:4040\n",
       "SparkContext available as 'sc' (version = 2.4.4, master = local[*], app id = local-1572771020713)\n",
       "SparkSession available as 'spark'\n"
      ]
     },
     "metadata": {},
     "output_type": "display_data"
    },
    {
     "data": {
      "text/plain": [
       "res0: org.apache.spark.sql.SparkSession = org.apache.spark.sql.SparkSession@627cfe53\n"
      ]
     },
     "execution_count": 2,
     "metadata": {},
     "output_type": "execute_result"
    }
   ],
   "source": [
    "spark"
   ]
  },
  {
   "cell_type": "code",
   "execution_count": 3,
   "metadata": {},
   "outputs": [
    {
     "data": {
      "text/plain": [
       "res1: String = 2.4.4\n"
      ]
     },
     "execution_count": 3,
     "metadata": {},
     "output_type": "execute_result"
    }
   ],
   "source": [
    "spark.version"
   ]
  },
  {
   "cell_type": "code",
   "execution_count": 138,
   "metadata": {},
   "outputs": [
    {
     "data": {
      "text/plain": [
       "import org.apache.spark.SparkConf\n",
       "import org.apache.spark.sql.{DataFrame, SparkSession}\n",
       "import org.apache.spark.sql.functions.udf\n",
       "import org.apache.spark.sql.functions._\n",
       "import org.apache.spark.sql.DataFrameNaFunctions\n",
       "import org.apache.spark.sql.types._\n"
      ]
     },
     "execution_count": 138,
     "metadata": {},
     "output_type": "execute_result"
    }
   ],
   "source": [
    "import org.apache.spark.SparkConf\n",
    "import org.apache.spark.sql.{DataFrame, SparkSession}\n",
    "import org.apache.spark.sql.functions.udf\n",
    "import org.apache.spark.sql.functions._\n",
    "import org.apache.spark.sql.DataFrameNaFunctions\n",
    "import org.apache.spark.sql.types._"
   ]
  },
  {
   "cell_type": "markdown",
   "metadata": {},
   "source": [
    "### 1- Chargement des données"
   ]
  },
  {
   "cell_type": "code",
   "execution_count": 5,
   "metadata": {},
   "outputs": [
    {
     "data": {
      "text/plain": [
       "velib: org.apache.spark.sql.DataFrame = [Nombre de bornes disponibles: int, Nombre vélo en PARK+1: int ... 19 more fields]\n"
      ]
     },
     "execution_count": 5,
     "metadata": {},
     "output_type": "execute_result"
    }
   ],
   "source": [
    " val velib: DataFrame = spark\n",
    "      .read\n",
    "      .option(\"header\", true) // utilise la première ligne du (des) fichier(s) comme header\n",
    "      .option(\"inferSchema\", \"true\") // pour inférer le type de chaque colonne (Int, String, etc.)\n",
    "      .option(\"delimiter\", \";\")\n",
    "      .csv(\"/home/parfait/Documents/MS BGD/Data Mining_SD701/Projet_velib/data/velib-dispo-2810-matin.csv\")\n"
   ]
  },
  {
   "cell_type": "code",
   "execution_count": 6,
   "metadata": {},
   "outputs": [
    {
     "name": "stdout",
     "output_type": "stream",
     "text": [
      "Nombre de lignes : 1390\n",
      "Nombre de colonnes : 21\n"
     ]
    }
   ],
   "source": [
    "println(s\"Nombre de lignes : ${velib.count}\")\n",
    "println(s\"Nombre de colonnes : ${velib.columns.length}\")"
   ]
  },
  {
   "cell_type": "code",
   "execution_count": 7,
   "metadata": {},
   "outputs": [
    {
     "name": "stdout",
     "output_type": "stream",
     "text": [
      "root\n",
      " |-- Nombre de bornes disponibles: integer (nullable = true)\n",
      " |-- Nombre vélo en PARK+1: integer (nullable = true)\n",
      " |-- Nombres de bornes en station: integer (nullable = true)\n",
      " |-- PARK + activation: string (nullable = true)\n",
      " |-- densityLevel: integer (nullable = true)\n",
      " |-- Achat possible en station (CB): string (nullable = true)\n",
      " |-- Description station: string (nullable = true)\n",
      " |-- maxBikeOverflow: integer (nullable = true)\n",
      " |-- Etat du Totem: string (nullable = true)\n",
      " |-- nbFreeDock: integer (nullable = true)\n",
      " |-- Nombre de vélo mécanique: integer (nullable = true)\n",
      " |-- PARK +: string (nullable = true)\n",
      " |-- nbDock: integer (nullable = true)\n",
      " |-- Nombre vélo électrique: integer (nullable = true)\n",
      " |-- Nombre vélo en PARK+14: integer (nullable = true)\n",
      " |-- Code de la station: integer (nullable = true)\n",
      " |-- Nom de la station: string (nullable = true)\n",
      " |-- Etat des stations: string (nullable = true)\n",
      " |-- Type de stations: string (nullable = true)\n",
      " |-- geo: string (nullable = true)\n",
      " |-- duedate: timestamp (nullable = true)\n",
      "\n"
     ]
    }
   ],
   "source": [
    "velib.printSchema()"
   ]
  },
  {
   "cell_type": "code",
   "execution_count": null,
   "metadata": {},
   "outputs": [],
   "source": [
    " val adresses: DataFrame = spark\n",
    "      .read\n",
    "      .option(\"header\", true) // utilise la première ligne du (des) fichier(s) comme header\n",
    "      .option(\"inferSchema\", \"true\") // pour inférer le type de chaque colonne (Int, String, etc.)\n",
    "      .option(\"delimiter\", \";\")\n",
    "      .csv(\"/home/parfait/Documents/MS BGD/Data Mining_SD701/Projet_velib/data/adresses-75.csv\")"
   ]
  },
  {
   "cell_type": "code",
   "execution_count": null,
   "metadata": {},
   "outputs": [],
   "source": [
    "println(s\"Nombre de lignes : ${adresses.count}\")\n",
    "println(s\"Nombre de colonnes : ${adresses.columns.length}\")"
   ]
  },
  {
   "cell_type": "code",
   "execution_count": null,
   "metadata": {},
   "outputs": [],
   "source": [
    "adresses.printSchema()"
   ]
  },
  {
   "cell_type": "markdown",
   "metadata": {},
   "source": [
    "### 2- Cleaning data velib et adresses"
   ]
  },
  {
   "cell_type": "code",
   "execution_count": 13,
   "metadata": {},
   "outputs": [
    {
     "data": {
      "text/plain": [
       "velibClean: org.apache.spark.sql.DataFrame = [nbre_bornes_dispo: int, nbre_bornes_station: int ... 12 more fields]\n"
      ]
     },
     "execution_count": 13,
     "metadata": {},
     "output_type": "execute_result"
    }
   ],
   "source": [
    "val velibClean: DataFrame =  velib\n",
    "    .withColumn(\"x_velib\", split($\"geo\", \",\").getItem(1).cast(\"double\"))\n",
    "    .withColumn(\"y_velib\", split($\"geo\", \",\").getItem(0).cast(\"double\"))\n",
    "    .withColumnRenamed(\"Nombre de bornes disponibles\",\"nbre_bornes_dispo\")\n",
    "    .withColumnRenamed(\"Nombres de bornes en station\",\"nbre_bornes_station\")\n",
    "    .withColumnRenamed(\"Achat possible en station (CB)\",\"achat_cb\")\n",
    "    .withColumnRenamed(\"Description station\",\"description\")\n",
    "    .withColumnRenamed(\"Etat du Totem\",\"etat_totem\")\n",
    "    .withColumnRenamed(\"Nombre de vélo mécanique\",\"nbre_velos_meca\")\n",
    "    .withColumnRenamed(\"Nombre vélo électrique\",\"nbre_velos_elec\")\n",
    "    .withColumnRenamed(\"Code de la station\",\"cod_station\")\n",
    "    .withColumnRenamed(\"Nom de la station\",\"nom_station\")\n",
    "    .withColumnRenamed(\"Etat des stations\",\"etat_station\")\n",
    "    .withColumnRenamed(\"Type de stations\",\"type_station\")\n",
    "    .drop($\"Nombre vélo en PARK+1\")\n",
    "    .drop($\"PARK + activation\")\n",
    "    .drop($\"Nombre vélo en PARK+14\")\n",
    "    .drop($\"PARK +\")\n",
    "    .drop($\"densityLevel\")\n",
    "    .drop($\"description\")\n",
    "    .drop($\"maxBikeOverflow\")\n",
    "    .drop($\"nbFreeDock\")\n",
    "    .drop($\"nbDock\")"
   ]
  },
  {
   "cell_type": "code",
   "execution_count": 14,
   "metadata": {},
   "outputs": [
    {
     "name": "stdout",
     "output_type": "stream",
     "text": [
      "root\n",
      " |-- nbre_bornes_dispo: integer (nullable = true)\n",
      " |-- nbre_bornes_station: integer (nullable = true)\n",
      " |-- achat_cb: string (nullable = true)\n",
      " |-- etat_totem: string (nullable = true)\n",
      " |-- nbre_velos_meca: integer (nullable = true)\n",
      " |-- nbre_velos_elec: integer (nullable = true)\n",
      " |-- cod_station: integer (nullable = true)\n",
      " |-- nom_station: string (nullable = true)\n",
      " |-- etat_station: string (nullable = true)\n",
      " |-- type_station: string (nullable = true)\n",
      " |-- geo: string (nullable = true)\n",
      " |-- duedate: timestamp (nullable = true)\n",
      " |-- x_velib: double (nullable = true)\n",
      " |-- y_velib: double (nullable = true)\n",
      "\n"
     ]
    }
   ],
   "source": [
    "velibClean.printSchema()"
   ]
  },
  {
   "cell_type": "markdown",
   "metadata": {},
   "source": [
    "#### Compte tenu des puissances de calcul de mon ordinateur, je travaillerai uniquement sur les adresses du premier arrondissement de Paris "
   ]
  },
  {
   "cell_type": "code",
   "execution_count": 30,
   "metadata": {},
   "outputs": [
    {
     "data": {
      "text/plain": [
       "adresses01: org.apache.spark.sql.DataFrame = [id: string, id_fantoir: string ... 18 more fields]\n"
      ]
     },
     "execution_count": 30,
     "metadata": {},
     "output_type": "execute_result"
    }
   ],
   "source": [
    "val adresses01: DataFrame = adresses.filter($\"code_postal\" === 75001)"
   ]
  },
  {
   "cell_type": "code",
   "execution_count": 31,
   "metadata": {},
   "outputs": [
    {
     "data": {
      "text/plain": [
       "adresseClean: org.apache.spark.sql.DataFrame = [id: string, id_fantoir: string ... 9 more fields]\n"
      ]
     },
     "execution_count": 31,
     "metadata": {},
     "output_type": "execute_result"
    }
   ],
   "source": [
    "val adresseClean: DataFrame =  adresses01\n",
    "    .drop($\"code_insee_ancienne_commune\")\n",
    "    .drop($\"lon\")\n",
    "    .drop($\"lat\")\n",
    "    .drop($\"alias\")\n",
    "    .drop($\"nom_ld\")\n",
    "    .drop($\"libelle_acheminement\")\n",
    "    .drop($\"nom_afnor\")\n",
    "    .drop($\"source_position\")\n",
    "    .drop($\"source_nom_voie\")"
   ]
  },
  {
   "cell_type": "code",
   "execution_count": 32,
   "metadata": {},
   "outputs": [
    {
     "name": "stdout",
     "output_type": "stream",
     "text": [
      "root\n",
      " |-- id: string (nullable = true)\n",
      " |-- id_fantoir: string (nullable = true)\n",
      " |-- numero: integer (nullable = true)\n",
      " |-- rep: string (nullable = true)\n",
      " |-- nom_voie: string (nullable = true)\n",
      " |-- code_postal: integer (nullable = true)\n",
      " |-- code_insee: integer (nullable = true)\n",
      " |-- nom_commune: string (nullable = true)\n",
      " |-- nom_ancienne_commune: string (nullable = true)\n",
      " |-- x: double (nullable = true)\n",
      " |-- y: double (nullable = true)\n",
      "\n"
     ]
    }
   ],
   "source": [
    "adresseClean.printSchema()"
   ]
  },
  {
   "cell_type": "markdown",
   "metadata": {},
   "source": [
    "### 3- Recommandation de la station la plus proche de chaque adresse"
   ]
  },
  {
   "cell_type": "code",
   "execution_count": 34,
   "metadata": {},
   "outputs": [
    {
     "data": {
      "text/plain": [
       "crossJoin: org.apache.spark.sql.DataFrame = [id: string, id_fantoir: string ... 23 more fields]\n"
      ]
     },
     "execution_count": 34,
     "metadata": {},
     "output_type": "execute_result"
    }
   ],
   "source": [
    "val crossJoin = adresseClean.crossJoin(velibClean)"
   ]
  },
  {
   "cell_type": "code",
   "execution_count": 35,
   "metadata": {},
   "outputs": [
    {
     "name": "stdout",
     "output_type": "stream",
     "text": [
      "+------+---------+----------+-------------+-------------+\n",
      "|numero|x        |y         |x_velib      |y_velib      |\n",
      "+------+---------+----------+-------------+-------------+\n",
      "|1     |650852.89|6862571.29|646867.5476  |6863127.31356|\n",
      "|1     |650852.89|6862571.29|651504.905142|6861726.97899|\n",
      "|1     |650852.89|6862571.29|653410.789083|6863281.10064|\n",
      "|1     |650852.89|6862571.29|651401.378236|6864567.90437|\n",
      "|1     |650852.89|6862571.29|655430.484286|6861934.72171|\n",
      "|1     |650852.89|6862571.29|655049.485913|6860263.89269|\n",
      "|1     |650852.89|6862571.29|650472.822069|6861462.23007|\n",
      "|1     |650852.89|6862571.29|651838.493023|6861475.44599|\n",
      "|1     |650852.89|6862571.29|651784.241945|6857907.53976|\n",
      "|1     |650852.89|6862571.29|648747.091267|6864888.51711|\n",
      "|1     |650852.89|6862571.29|647760.557289|6864997.90998|\n",
      "|1     |650852.89|6862571.29|653502.104984|6863633.0448 |\n",
      "|1     |650852.89|6862571.29|650744.673053|6864031.55387|\n",
      "|1     |650852.89|6862571.29|651265.173128|6859924.25257|\n",
      "|1     |650852.89|6862571.29|650894.789258|6861498.38068|\n",
      "|1     |650852.89|6862571.29|652542.486642|6859643.10533|\n",
      "|1     |650852.89|6862571.29|652440.286493|6860622.48571|\n",
      "|1     |650852.89|6862571.29|650198.245367|6860995.8999 |\n",
      "|1     |650852.89|6862571.29|654932.135488|6867998.05607|\n",
      "|1     |650852.89|6862571.29|654238.521674|6857484.44924|\n",
      "+------+---------+----------+-------------+-------------+\n",
      "only showing top 20 rows\n",
      "\n"
     ]
    }
   ],
   "source": [
    "crossJoin.select($\"numero\", $\"x\", $\"y\",$\"x_velib\", $\"y_velib\").show(false)"
   ]
  },
  {
   "cell_type": "code",
   "execution_count": 36,
   "metadata": {},
   "outputs": [
    {
     "data": {
      "text/plain": [
       "crossJoinDistInt: org.apache.spark.sql.DataFrame = [id: string, id_fantoir: string ... 25 more fields]\n"
      ]
     },
     "execution_count": 36,
     "metadata": {},
     "output_type": "execute_result"
    }
   ],
   "source": [
    "val crossJoinDistInt: DataFrame = crossJoin\n",
    "    .withColumn(\"dist_km\", round(sqrt(pow($\"x_velib\" - $\"x\", 2) + pow($\"y_velib\" - $\"y\", 2))/1000, 3))\n",
    "    .withColumn(\"proba\",($\"nbre_velos_meca\"/ $\"nbre_bornes_station\"))"
   ]
  },
  {
   "cell_type": "code",
   "execution_count": 37,
   "metadata": {},
   "outputs": [
    {
     "data": {
      "text/plain": [
       "crossJoinDist: org.apache.spark.sql.DataFrame = [id: string, id_fantoir: string ... 26 more fields]\n"
      ]
     },
     "execution_count": 37,
     "metadata": {},
     "output_type": "execute_result"
    }
   ],
   "source": [
    "val crossJoinDist: DataFrame = crossJoinDistInt\n",
    "    .withColumn(\"esperance\", round(pow($\"dist_km\" + 1, -1) * $\"proba\" ,3))"
   ]
  },
  {
   "cell_type": "code",
   "execution_count": 39,
   "metadata": {},
   "outputs": [
    {
     "data": {
      "text/plain": [
       "inter: org.apache.spark.sql.DataFrame = [id: string, dist_min: double]\n"
      ]
     },
     "execution_count": 39,
     "metadata": {},
     "output_type": "execute_result"
    }
   ],
   "source": [
    "val inter: DataFrame = crossJoinDist.groupBy(\"id\").agg(min($\"dist_km\").as(\"dist_min\"))"
   ]
  },
  {
   "cell_type": "code",
   "execution_count": 75,
   "metadata": {},
   "outputs": [
    {
     "data": {
      "text/plain": [
       "StationProche: org.apache.spark.sql.DataFrame = [id: string, dist_min: double ... 28 more fields]\n"
      ]
     },
     "execution_count": 75,
     "metadata": {},
     "output_type": "execute_result"
    }
   ],
   "source": [
    "val StationProche: DataFrame = inter.join(crossJoinDist, (crossJoinDist.col(\"id\") ===  inter.col(\"id\") && crossJoinDist.col(\"dist_km\") === inter.col(\"dist_min\")))"
   ]
  },
  {
   "cell_type": "code",
   "execution_count": 84,
   "metadata": {},
   "outputs": [
    {
     "name": "stdout",
     "output_type": "stream",
     "text": [
      "+------+------------------------------------+-------------------------------------+-----------+---------------+-------+\n",
      "|numero|nom_voie                            |nom_station                          |cod_station|nbre_velos_meca|dist_km|\n",
      "+------+------------------------------------+-------------------------------------+-----------+---------------+-------+\n",
      "|163   |Rue Saint-honore                    |Saint-Honoré - Musée du Louvre       |1023       |13             |0.003  |\n",
      "|4     |Rue de Ventadour                    |Ventadour - Opéra                    |1116       |7              |0.004  |\n",
      "|2     |Rue d'Alger                         |Alger - Rivoli                       |1018       |13             |0.004  |\n",
      "|19    |Rue des Halles                      |Halles - Bourdonnais                 |1021       |6              |0.005  |\n",
      "|25    |Rue des Lavandieres Sainte-opportune|Lavandieres Sainte Opportune - Rivoli|1120       |9              |0.006  |\n",
      "|217   |Rue Saint-honore                    |Saint-Honoré - 29 juillet            |1017       |13             |0.006  |\n",
      "|4     |Rue de la Grande Truanderie         |Grande Truanderie - Saint-Denis      |1006       |7              |0.006  |\n",
      "|6     |Rue Francaise                       |Française - Etienne Marcel           |1102       |2              |0.006  |\n",
      "|41    |Qu de l'Horloge                     |Quai de l'Horloge - Pont Neuf        |1001       |6              |0.007  |\n",
      "|23    |Rue des Lavandieres Sainte-opportune|Lavandieres Sainte Opportune - Rivoli|1120       |9              |0.007  |\n",
      "+------+------------------------------------+-------------------------------------+-----------+---------------+-------+\n",
      "only showing top 10 rows\n",
      "\n"
     ]
    }
   ],
   "source": [
    "StationProche.select($\"numero\", $\"nom_voie\", $\"nom_station\", $\"cod_station\", $\"nbre_velos_meca\", $\"dist_km\")\n",
    "    .distinct().sort($\"dist_km\".asc).show(10,false)"
   ]
  },
  {
   "cell_type": "markdown",
   "metadata": {},
   "source": [
    "### 4- Recommandation de la station ayant la plus forte espérance (Espérance basée sur la distance à la station et la probabilité d'avoir un vélo)"
   ]
  },
  {
   "cell_type": "code",
   "execution_count": 79,
   "metadata": {},
   "outputs": [
    {
     "data": {
      "text/plain": [
       "esperances: org.apache.spark.sql.DataFrame = [id: string, esperance_max: double]\n"
      ]
     },
     "execution_count": 79,
     "metadata": {},
     "output_type": "execute_result"
    }
   ],
   "source": [
    "val esperances: DataFrame = crossJoinDist.groupBy(\"id\").agg(max($\"esperance\").as(\"esperance_max\"))"
   ]
  },
  {
   "cell_type": "code",
   "execution_count": 81,
   "metadata": {},
   "outputs": [
    {
     "data": {
      "text/plain": [
       "stationForteEsp: org.apache.spark.sql.DataFrame = [id: string, esperance_max: double ... 28 more fields]\n"
      ]
     },
     "execution_count": 81,
     "metadata": {},
     "output_type": "execute_result"
    }
   ],
   "source": [
    "val stationForteEsp: DataFrame = esperances.join(crossJoinDist, (crossJoinDist.col(\"id\") ===  esperances.col(\"id\") && crossJoinDist.col(\"esperance\") === esperances.col(\"esperance_max\")))"
   ]
  },
  {
   "cell_type": "code",
   "execution_count": 85,
   "metadata": {},
   "outputs": [
    {
     "name": "stdout",
     "output_type": "stream",
     "text": [
      "+------+------------------+----------------------------+-----------+---------------+---------+\n",
      "|numero|nom_voie          |nom_station                 |cod_station|nbre_velos_meca|esperance|\n",
      "+------+------------------+----------------------------+-----------+---------------+---------+\n",
      "|37    |Rue Etienne Marcel|Etienne Marcel - Montorgueil|2002       |17             |16.832   |\n",
      "|35    |Rue Etienne Marcel|Etienne Marcel - Montorgueil|2002       |17             |16.683   |\n",
      "|39    |Rue Etienne Marcel|Etienne Marcel - Montorgueil|2002       |17             |16.457   |\n",
      "|29    |Rue Montorgueil   |Etienne Marcel - Montorgueil|2002       |17             |16.457   |\n",
      "|27    |Rue Montorgueil   |Etienne Marcel - Montorgueil|2002       |17             |16.378   |\n",
      "|25    |Rue Montorgueil   |Etienne Marcel - Montorgueil|2002       |17             |16.299   |\n",
      "|40    |Rue Montorgueil   |Etienne Marcel - Montorgueil|2002       |17             |16.237   |\n",
      "|23    |Rue Montorgueil   |Etienne Marcel - Montorgueil|2002       |17             |16.206   |\n",
      "|38    |Rue Montorgueil   |Etienne Marcel - Montorgueil|2002       |17             |16.175   |\n",
      "|33    |Rue Etienne Marcel|Etienne Marcel - Montorgueil|2002       |17             |16.16    |\n",
      "+------+------------------+----------------------------+-----------+---------------+---------+\n",
      "only showing top 10 rows\n",
      "\n"
     ]
    }
   ],
   "source": [
    "stationForteEsp.select($\"numero\", $\"nom_voie\", $\"nom_station\", $\"cod_station\", $\"nbre_velos_meca\", $\"esperance\")\n",
    "    .distinct().sort($\"esperance\".desc).show(10,false)"
   ]
  },
  {
   "cell_type": "code",
   "execution_count": 124,
   "metadata": {},
   "outputs": [
    {
     "data": {
      "text/plain": [
       "url: String = https://opendata.paris.fr/api/records/1.0/search/?dataset=velib-disponibilite-en-temps-reel&facet=overflowactivation&facet=creditcard&facet=kioskstate&facet=station_state\n",
       "data: String = {\"nhits\": 1391, \"parameters\": {\"dataset\": \"velib-disponibilite-en-temps-reel\", \"timezone\": \"UTC\", \"rows\": 10, \"format\": \"json\", \"facet\": [\"overflowactivation\", \"creditcard\", \"kioskstate\", \"station_state\"]}, \"records\": [{\"datasetid\": \"velib-disponibilite-en-temps-reel\", \"recordid\": \"dcd12f79a3978a9050e0f268e05f23af4945826f\", \"fields\": {\"nbfreeedock\": 26, \"station_state\": \"Operative\", \"maxbikeoverflow\": 0, \"creditcard\": \"no\", \"station_type\": \"yes\", \"overflowactivation\": \"no\", \"station_code\": \"16107\", \"overflow\": \"no\", \"nbbikeoverflow\": 0, \"duedate\": \"2018-07-15\", \"densitylevel\": \"1\", \"nbedock..."
      ]
     },
     "execution_count": 124,
     "metadata": {},
     "output_type": "execute_result"
    }
   ],
   "source": [
    "val url = \"https://opendata.paris.fr/api/records/1.0/search/?dataset=velib-disponibilite-en-temps-reel&facet=overflowactivation&facet=creditcard&facet=kioskstate&facet=station_state\" \n",
    "val data = scala.io.Source.fromURL(url).mkString"
   ]
  },
  {
   "cell_type": "code",
   "execution_count": 126,
   "metadata": {},
   "outputs": [
    {
     "data": {
      "text/plain": [
       "res67: String = {\"nhits\": 1391, \"parameters\": {\"dataset\": \"velib-disponibilite-en-temps-reel\", \"timezone\": \"UTC\", \"rows\": 10, \"format\": \"json\", \"facet\": [\"overflowactivation\", \"creditcard\", \"kioskstate\", \"station_state\"]}, \"records\": [{\"datasetid\": \"velib-disponibilite-en-temps-reel\", \"recordid\": \"dcd12f79a3978a9050e0f268e05f23af4945826f\", \"fields\": {\"nbfreeedock\": 26, \"station_state\": \"Operative\", \"maxbikeoverflow\": 0, \"creditcard\": \"no\", \"station_type\": \"yes\", \"overflowactivation\": \"no\", \"station_code\": \"16107\", \"overflow\": \"no\", \"nbbikeoverflow\": 0, \"duedate\": \"2018-07-15\", \"densitylevel\": \"1\", \"nbedock\": 35, \"station\": \"{\\\"code\\\": \\\"16107\\\", \\\"name\\\": \\\"Benjamin Godard - Victor Hugo\\\", \\\"state\\\": \\\"Operative\\\", \\\"type\\\": \\\"yes\\\", \\\"dueDate\\\": 1531632033, \\\"gps\\\": {\\\"latitude\\\": 48.8..."
      ]
     },
     "execution_count": 126,
     "metadata": {},
     "output_type": "execute_result"
    }
   ],
   "source": [
    "data"
   ]
  },
  {
   "cell_type": "code",
   "execution_count": 180,
   "metadata": {},
   "outputs": [
    {
     "data": {
      "text/plain": [
       "jsonResponseOneLine: String = {\"nhits\": 1391, \"parameters\": {\"dataset\": \"velib-disponibilite-en-temps-reel\", \"timezone\": \"UTC\", \"rows\": 10, \"format\": \"json\", \"facet\": [\"overflowactivation\", \"creditcard\", \"kioskstate\", \"station_state\"]}, \"records\": [{\"datasetid\": \"velib-disponibilite-en-temps-reel\", \"recordid\": \"dcd12f79a3978a9050e0f268e05f23af4945826f\", \"fields\": {\"nbfreeedock\": 26, \"station_state\": \"Operative\", \"maxbikeoverflow\": 0, \"creditcard\": \"no\", \"station_type\": \"yes\", \"overflowactivation\": \"no\", \"station_code\": \"16107\", \"overflow\": \"no\", \"nbbikeoverflow\": 0, \"duedate\": \"2018-07-15\", \"densitylevel\": \"1\", \"nbedock\": 35, \"station\": \"{\\\"code\\\": \\\"16107\\\", \\\"name\\\": \\\"Benjamin Godard - Victor Hugo\\\", \\\"state\\\": \\\"Operative\\\", \\\"type\\\": \\\"yes\\\", \\\"dueDate\\\": 1531632033, \\\"gps\\\": {\\\"la..."
      ]
     },
     "execution_count": 180,
     "metadata": {},
     "output_type": "execute_result"
    }
   ],
   "source": [
    "val jsonResponseOneLine = data.toString().stripLineEnd \n",
    "//You need an RDD to read it with spark.read.json! This took me some time. However it seems obvious now \n",
    "val jsonRdd = sc.parallelize(jsonResponseOneLine :: Nil) \n",
    "\n",
    "val jsonDf = spark.read.json(jsonRdd)"
   ]
  },
  {
   "cell_type": "code",
   "execution_count": 182,
   "metadata": {},
   "outputs": [
    {
     "name": "stdout",
     "output_type": "stream",
     "text": [
      "+--------------------------------------------------------------------------------------------------------------------------------------------------------------------------------------------------------------------------------------------------------------------------------------------------------------------------------------------------------------------------------------------------------------------------------------------------------------------------------------------------------------------------------------------+\n",
      "|col                                                                                                                                                                                                                                                                                                                                                                                                                                                                                                                                         |\n",
      "+--------------------------------------------------------------------------------------------------------------------------------------------------------------------------------------------------------------------------------------------------------------------------------------------------------------------------------------------------------------------------------------------------------------------------------------------------------------------------------------------------------------------------------------------+\n",
      "|[velib-disponibilite-en-temps-reel, [no, 1, 2018-07-15, [48.865983, 2.275725], yes, 0, 4, 0, 0, 5, 0, 35, 0, 26, no, no, {\"code\": \"16107\", \"name\": \"Benjamin Godard - Victor Hugo\", \"state\": \"Operative\", \"type\": \"yes\", \"dueDate\": 1531632033, \"gps\": {\"latitude\": 48.865983, \"longitude\": 2.275725}}, 16107, Benjamin Godard - Victor Hugo, Operative, yes], [[2.275725, 48.865983], Point], 2019-11-03T12:36:01.613000+00:00, dcd12f79a3978a9050e0f268e05f23af4945826f]                                                                  |\n",
      "|[velib-disponibilite-en-temps-reel, [yes, 1, 2018-04-05, [48.85375581057431, 2.3390958085656166], yes, 55, 11, 0, 3, 14, 0, 52, 3, 27, no, no, {\"code\": \"6015\", \"name\": \"André Mazet - Saint-André des Arts\", \"state\": \"Operative\", \"type\": \"yes\", \"dueDate\": 1522965646, \"gps\": {\"latitude\": 48.85375581057431, \"longitude\": 2.3390958085656166}}, 6015, André Mazet - Saint-André des Arts, Operative, yes], [[2.3390958085656166, 48.85375581057431], Point], 2019-11-03T12:36:01.613000+00:00, 0bb23b067f4a233e526508e37ee64f6da1334e69]|\n",
      "|[velib-disponibilite-en-temps-reel, [yes, 1, 2019-05-11, [48.867872484748744, 2.3648982158072323], yes, 0, 7, 1, 0, 5, 0, 38, 0, 26, no, no, {\"code\": \"11037\", \"name\": \"Faubourg Du Temple - Republique\", \"state\": \"Operative\", \"type\": \"yes\", \"dueDate\": 1557612000, \"gps\": {\"latitude\": 48.867872484748744, \"longitude\": 2.3648982158072323}}, 11037, Faubourg Du Temple - Republique, Operative, yes], [[2.3648982158072323, 48.867872484748744], Point], 2019-11-03T12:36:01.613000+00:00, e4c86bed20d0edce763e17951dde6b4267c3a21d]    |\n",
      "|[velib-disponibilite-en-temps-reel, [yes, 1, 2018-11-30, [48.87929591733507, 2.3373600840568547], yes, 21, 1, 0, 0, 2, 0, 21, 0, 18, no, no, {\"code\": \"9020\", \"name\": \"Toudouze - Clauzel\", \"state\": \"Operative\", \"type\": \"yes\", \"dueDate\": 1543615140, \"gps\": {\"latitude\": 48.87929591733507, \"longitude\": 2.3373600840568547}}, 9020, Toudouze - Clauzel, Operative, yes], [[2.3373600840568547, 48.87929591733507], Point], 2019-11-03T12:36:01.613000+00:00, 694b8abade742acd83b6be880fa14a332cee6a1c]                                  |\n",
      "|[velib-disponibilite-en-temps-reel, [no, 1, 2018-10-22, [48.85590755596891, 2.3925706744194035], yes, 0, 3, 0, 0, 4, 0, 20, 0, 13, no, no, {\"code\": \"11104\", \"name\": \"Charonne - Robert et Sonia Delauney\", \"state\": \"Operative\", \"type\": \"yes\", \"dueDate\": 1540245629, \"gps\": {\"latitude\": 48.85590755596891, \"longitude\": 2.3925706744194035}}, 11104, Charonne - Robert et Sonia Delauney, Operative, yes], [[2.3925706744194035, 48.85590755596891], Point], 2019-11-03T12:36:01.613000+00:00, 8bac8c4f1ad208df5218988aa2334760edd2c932]|\n",
      "|[velib-disponibilite-en-temps-reel, [no, 1, 2019-03-28, [48.84085531176338, 2.3875549435615544], yes, 30, 4, 0, 0, 10, 0, 30, 0, 16, no, no, {\"code\": \"12109\", \"name\": \"Mairie du 12ème\", \"state\": \"Operative\", \"type\": \"yes\", \"dueDate\": 1553814028, \"gps\": {\"latitude\": 48.84085531176338, \"longitude\": 2.3875549435615544}}, 12109, Mairie du 12ème, Operative, yes], [[2.3875549435615544, 48.84085531176338], Point], 2019-11-03T12:36:01.613000+00:00, 3d4d2fc1f2d9149240325bb9d1f7be2d9a12da6d]                                      |\n",
      "|[velib-disponibilite-en-temps-reel, [yes, 1, 2018-06-30, [48.851296433665276, 2.325061820447445], yes, 0, 34, 0, 0, 5, 0, 60, 0, 20, no, no, {\"code\": \"7003\", \"name\": \"Square Boucicaut\", \"state\": \"Operative\", \"type\": \"yes\", \"dueDate\": 1530350922, \"gps\": {\"latitude\": 48.851296433665276, \"longitude\": 2.325061820447445}}, 7003, Square Boucicaut, Operative, yes], [[2.325061820447445, 48.851296433665276], Point], 2019-11-03T12:36:01.613000+00:00, 5543b1d00cc6b37a59837b3b5810701938464930]                                      |\n",
      "|[velib-disponibilite-en-temps-reel, [yes, 1, 2020-03-22, [48.85151881501689, 2.343670316040516], yes, 45, 7, 0, 44, 5, 0, 1, 32, 1, no, no, {\"code\": \"5001\", \"name\": \"Harpe - Saint-Germain\", \"state\": \"Operative\", \"type\": \"yes\", \"dueDate\": 1584914400, \"gps\": {\"latitude\": 48.85151881501689, \"longitude\": 2.343670316040516}}, 5001, Harpe - Saint-Germain, Operative, yes], [[2.343670316040516, 48.85151881501689], Point], 2019-11-03T12:36:01.613000+00:00, 80f09cccf0aa2d1316292b46d277f9edf16bc699]                               |\n",
      "|[velib-disponibilite-en-temps-reel, [yes, 1, 2019-04-28, [48.81942833336948, 2.343335375189781], yes, 60, 11, 0, 0, 5, 0, 60, 0, 43, no, no, {\"code\": \"14014\", \"name\": \"Jourdan - Stade Charléty\", \"state\": \"Operative\", \"type\": \"yes\", \"dueDate\": 1556488800, \"gps\": {\"latitude\": 48.81942833336948, \"longitude\": 2.343335375189781}}, 14014, Jourdan - Stade Charléty, Operative, yes], [[2.343335375189781, 48.81942833336948], Point], 2019-11-03T12:36:01.613000+00:00, 334a77a85b7d4955b57a564d83f0a5efe0c624ca]                      |\n",
      "|[velib-disponibilite-en-temps-reel, [yes, 1, 2018-02-28, [48.881973298351625, 2.301132157444954], yes, 41, 2, 0, 41, 6, 0, 0, 33, 0, no, no, {\"code\": \"17026\", \"name\": \"Jouffroy d'Abbans - Wagram\", \"state\": \"Operative\", \"type\": \"no\", \"dueDate\": 1519858800, \"gps\": {\"latitude\": 48.881973298351625, \"longitude\": 2.301132157444954}}, 17026, Jouffroy d'Abbans - Wagram, Operative, no], [[2.301132157444954, 48.881973298351625], Point], 2019-11-03T12:36:01.613000+00:00, 665797a712de5a66bfccfe97d1a5674a639d96e4]                  |\n",
      "+--------------------------------------------------------------------------------------------------------------------------------------------------------------------------------------------------------------------------------------------------------------------------------------------------------------------------------------------------------------------------------------------------------------------------------------------------------------------------------------------------------------------------------------------+\n",
      "\n"
     ]
    }
   ],
   "source": [
    "jsonDf.select(explode($\"records\")).show(false)"
   ]
  },
  {
   "cell_type": "code",
   "execution_count": null,
   "metadata": {},
   "outputs": [],
   "source": []
  }
 ],
 "metadata": {
  "kernelspec": {
   "display_name": "spylon-kernel",
   "language": "scala",
   "name": "spylon-kernel"
  },
  "language_info": {
   "codemirror_mode": "text/x-scala",
   "file_extension": ".scala",
   "help_links": [
    {
     "text": "MetaKernel Magics",
     "url": "https://metakernel.readthedocs.io/en/latest/source/README.html"
    }
   ],
   "mimetype": "text/x-scala",
   "name": "scala",
   "pygments_lexer": "scala",
   "version": "0.4.1"
  }
 },
 "nbformat": 4,
 "nbformat_minor": 2
}
